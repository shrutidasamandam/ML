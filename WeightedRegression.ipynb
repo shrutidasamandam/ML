{
  "nbformat": 4,
  "nbformat_minor": 0,
  "metadata": {
    "colab": {
      "provenance": []
    },
    "kernelspec": {
      "name": "python3",
      "display_name": "Python 3"
    },
    "language_info": {
      "name": "python"
    }
  },
  "cells": [
    {
      "cell_type": "code",
      "execution_count": 1,
      "metadata": {
        "colab": {
          "base_uri": "https://localhost:8080/"
        },
        "id": "GPWL8_2w3bVN",
        "outputId": "79929592-623e-4e90-8082-007733f76272"
      },
      "outputs": [
        {
          "output_type": "stream",
          "name": "stderr",
          "text": [
            "<ipython-input-1-056222f092bf>:8: DeprecationWarning: Please use `pearsonr` from the `scipy.stats` namespace, the `scipy.stats.stats` namespace is deprecated.\n",
            "  from scipy.stats.stats import pearsonr\n"
          ]
        }
      ],
      "source": [
        "from numpy import *\n",
        "from os import listdir\n",
        "import matplotlib\n",
        "import matplotlib.pyplot as plt\n",
        "import pandas as pd\n",
        "import numpy as np1\n",
        "import numpy.linalg as np\n",
        "from scipy.stats.stats import pearsonr"
      ]
    },
    {
      "cell_type": "code",
      "source": [
        "def kernel(point,xmat, k):\n",
        " m,n = np1.shape(xmat)\n",
        " weights = np1.mat(np1.eye((m)))\n",
        " for j in range(m):\n",
        "    diff = point - X[j]\n",
        "    weights[j,j] = np1.exp(diff*diff.T/(-2.0*k**2))\n",
        " return weights"
      ],
      "metadata": {
        "id": "cPkWCcRp3b9B"
      },
      "execution_count": 2,
      "outputs": []
    },
    {
      "cell_type": "code",
      "source": [
        "def localWeight(point,xmat,ymat,k):\n",
        " wei = kernel(point,xmat,k)\n",
        " W = (X.T*(wei*X)).I*(X.T*(wei*ymat.T))\n",
        " return W"
      ],
      "metadata": {
        "id": "ZHP4wzAU3dXu"
      },
      "execution_count": 3,
      "outputs": []
    },
    {
      "cell_type": "code",
      "source": [
        "def localWeightRegression(xmat,ymat,k):\n",
        " m,n = np1.shape(xmat)\n",
        " ypred = np1.zeros(m)\n",
        " for i in range(m):\n",
        "    ypred[i] = xmat[i]*localWeight(xmat[i],xmat,ymat,k)\n",
        " return ypred"
      ],
      "metadata": {
        "id": "D1pIRbGR3e4P"
      },
      "execution_count": 4,
      "outputs": []
    },
    {
      "cell_type": "code",
      "source": [
        "# load data points\n",
        "data = pd.read_csv('tips.csv')\n",
        "bill = np1.array(data.total_bill)\n",
        "tip = np1.array(data.tip)\n"
      ],
      "metadata": {
        "id": "iuDVRygJ3hOn"
      },
      "execution_count": 5,
      "outputs": []
    },
    {
      "cell_type": "code",
      "source": [
        "#preparing and add 1 in bill\n",
        "mbill = np1.mat(bill)\n",
        "mtip = np1.mat(tip) # mat is used to convert to n dimesiona to 2 dimensional array form\n",
        "m= np1.shape(mbill)[1]\n",
        "# print(m) 244 data is stored in m\n",
        "one = np1.mat(np1.ones(m))\n",
        "X= np1.hstack((one.T,mbill.T)) # create a stack of bill from ONE\n",
        "#print(X)\n",
        "#set k here\n",
        "ypred = localWeightRegression(X,mtip,2)\n",
        "SortIndex = X[:,1].argsort(0)\n",
        "xsort = X[SortIndex][:,0]"
      ],
      "metadata": {
        "id": "14pY_eQR3ipP"
      },
      "execution_count": 6,
      "outputs": []
    },
    {
      "cell_type": "code",
      "source": [
        "fig = plt.figure()\n",
        "ax = fig.add_subplot(1,1,1)\n",
        "ax.scatter(bill,tip, color='blue')\n",
        "ax.plot(xsort[:,1],ypred[SortIndex], color = 'red', linewidth=5)\n",
        "plt.xlabel('Total bill')\n",
        "plt.ylabel('Tip')\n",
        "plt.show()"
      ],
      "metadata": {
        "colab": {
          "base_uri": "https://localhost:8080/",
          "height": 449
        },
        "id": "YRtj9feS3kJX",
        "outputId": "d9ee0834-c71b-4a10-ed03-0347644988f6"
      },
      "execution_count": 7,
      "outputs": [
        {
          "output_type": "display_data",
          "data": {
            "text/plain": [
              "<Figure size 640x480 with 1 Axes>"
            ],
            "image/png": "[encoded data removed]"
          },
          "metadata": {}
        }
      ]
    },
    {
      "cell_type": "code",
      "source": [
        "import numpy as np\n",
        "from bokeh.plotting import figure, show, output_notebook\n",
        "from bokeh.layouts import gridplot\n",
        "from bokeh.io import push_notebook"
      ],
      "metadata": {
        "id": "oJOpLwQt3l42"
      },
      "execution_count": 8,
      "outputs": []
    },
    {
      "cell_type": "code",
      "source": [
        "def local_regression(x0, X, Y, tau):# add bias term\n",
        "    x0 = np.r_[1, x0] # Add one to avoid the loss in information\n",
        "    X = np.c_[np.ones(len(X)), X]\n",
        "    # fit model: normal equations with kernel\n",
        "    xw = X.T * radial_kernel(x0, X, tau) # XTranspose * W\n",
        "    beta = np.linalg.pinv(xw @ X) @ xw @ Y #@ Matrix Multiplication or Dot Product\n",
        "    # predict value\n",
        "    return x0 @ beta # @ Matrix Multiplication or Dot Product for prediction"
      ],
      "metadata": {
        "id": "xB3qJtag3nMX"
      },
      "execution_count": 9,
      "outputs": []
    },
    {
      "cell_type": "code",
      "source": [
        "def radial_kernel(x0, X, tau):\n",
        "    return np.exp(np.sum((X - x0) ** 2, axis=1) / (-2 * tau * tau))\n",
        "# Weight or Radial Kernal Bias Function"
      ],
      "metadata": {
        "id": "5Q1t2UdQ3o4H"
      },
      "execution_count": 10,
      "outputs": []
    },
    {
      "cell_type": "code",
      "source": [
        "n = 1000\n",
        "# generate dataset\n",
        "X = np.linspace(-3, 3, num=n)\n",
        "print(\"The Data Set ( 10 Samples) X :\\n\",X[1:10])\n",
        "Y = np.log(np.abs(X ** 2 - 1) + .5)\n",
        "print(\"The Fitting Curve Data Set (10 Samples) Y :\\n\",Y[1:10])\n",
        "# jitter X\n",
        "X += np.random.normal(scale=.1, size=n)\n",
        "print(\"Normalised (10 Samples) X :\\n\",X[1:10])\n",
        "domain = np.linspace(-3, 3, num=300)\n",
        "print(\" Xo Domain Space(10 Samples) :\\n\",domain[1:10])"
      ],
      "metadata": {
        "colab": {
          "base_uri": "https://localhost:8080/"
        },
        "id": "pzkV2PxV3qyH",
        "outputId": "2fc312d0-f09a-421f-f8e4-76311af584f7"
      },
      "execution_count": 11,
      "outputs": [
        {
          "output_type": "stream",
          "name": "stdout",
          "text": [
            "The Data Set ( 10 Samples) X :\n",
            " [-2.99399399 -2.98798799 -2.98198198 -2.97597598 -2.96996997 -2.96396396\n",
            " -2.95795796 -2.95195195 -2.94594595]\n",
            "The Fitting Curve Data Set (10 Samples) Y :\n",
            " [2.13582188 2.13156806 2.12730467 2.12303166 2.11874898 2.11445659\n",
            " 2.11015444 2.10584249 2.10152068]\n",
            "Normalised (10 Samples) X :\n",
            " [-3.10603348 -3.09796731 -3.02516004 -3.17316278 -2.90042715 -2.9296389\n",
            " -2.96100247 -2.74554031 -2.88113689]\n",
            " Xo Domain Space(10 Samples) :\n",
            " [-2.97993311 -2.95986622 -2.93979933 -2.91973244 -2.89966555 -2.87959866\n",
            " -2.85953177 -2.83946488 -2.81939799]\n"
          ]
        }
      ]
    },
    {
      "cell_type": "code",
      "source": [
        "def plot_lwr(tau):\n",
        "# prediction through regression\n",
        "    prediction = [local_regression(x0, X, Y, tau) for x0 in domain]\n",
        "    plot = figure(plot_width=400, plot_height=400)\n",
        "    plot.title.text='tau=%g' % tau\n",
        "    plot.scatter(X, Y, alpha=.3)\n",
        "    plot.line(domain, prediction, line_width=2, color='red')\n",
        "    return plot"
      ],
      "metadata": {
        "id": "gAAwEkcT3snQ"
      },
      "execution_count": 12,
      "outputs": []
    },
    {
      "cell_type": "code",
      "source": [
        "show(gridplot([\n",
        "[plot_lwr(10.), plot_lwr(1.)],\n",
        "[plot_lwr(0.1), plot_lwr(0.01)]]))"
      ],
      "metadata": {
        "id": "1Qd-qWCw3ugw"
      },
      "execution_count": 13,
      "outputs": []
    }
  ]
}